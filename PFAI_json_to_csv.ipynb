{
 "cells": [
  {
   "cell_type": "code",
   "execution_count": null,
   "id": "0",
   "metadata": {},
   "outputs": [],
   "source": [
    "import os\n",
    "import csv\n",
    "import json\n",
    "from pathlib import Path\n",
    "from tqdm import tqdm"
   ]
  },
  {
   "cell_type": "code",
   "execution_count": null,
   "id": "1",
   "metadata": {},
   "outputs": [],
   "source": [
    "source = \"/run/user/1000/gvfs/smb-share:server=10.50.1.4,share=datalakev1/05_labeling_company/1_detection_request/01_stage1/PFAI_stage1/\"\n",
    "json_path = source + \"AQ1-PFAI-STAGE-1_472_2024-08-05.json\""
   ]
  },
  {
   "cell_type": "code",
   "execution_count": null,
   "id": "2",
   "metadata": {},
   "outputs": [],
   "source": [
    "def read_json(file_path):\n",
    "    if os.path.exists(file_path):\n",
    "        with open(file_path, 'r') as file:\n",
    "            return json.load(file)\n",
    "    else:\n",
    "        print(\"doesn't exist\",file_path)"
   ]
  },
  {
   "cell_type": "code",
   "execution_count": null,
   "id": "3",
   "metadata": {},
   "outputs": [],
   "source": [
    "json_data = read_json(json_path)"
   ]
  },
  {
   "cell_type": "code",
   "execution_count": null,
   "id": "4",
   "metadata": {},
   "outputs": [],
   "source": [
    "#init variables\n",
    "# cur_image_id = None\n",
    "duplication_cnt=0\n",
    "\n",
    "for entry in json_data[114]:\n",
    "    filename = entry[\"image_id\"]\n",
    "    elements = entry[\"elements\"]\n",
    "    # save file_name\n",
    "    source_name = Path(filename).stem\n",
    "    file_name = source_name+\".txt\"\n",
    "\n",
    "    # duplicated element check\n",
    "    if(os.path.isfile(file_name)): \n",
    "        duplication_cnt += 1\n",
    "        continue\n",
    "        \n",
    "    # for each bbox\n",
    "    for elem in elements:\n",
    "        geometry = elem[\"geometry\"]\n",
    "        class_name = elem[\"class\"]\n",
    "\n",
    "        if class_name.lower() == \"tuna\" : class_name=0\n",
    "        else: continue\n",
    "\n",
    "        # filter non bbox labels (dot and comments)\n",
    "        if isinstance(geometry, dict): continue \n",
    "        \n",
    "        # get points\n",
    "        xyxy = geometry[0]\n",
    "        pt1, pt2, pt3, pt4 = xyxy\n",
    "        \n",
    "        xmin = pt1[\"x\"]\n",
    "        ymax = pt1[\"y\"]\n",
    "        xmax = pt3[\"x\"]\n",
    "        ymin = pt3[\"y\"]\n",
    "        \n",
    "        x_center = (xmax + xmin) / 2 \n",
    "        y_center = (ymax + ymin) / 2\n",
    "        width = xmax - xmin\n",
    "        height = ymax - ymin\n",
    "\n",
    "        # write to file\n",
    "        if(os.path.isfile(file_name)):\n",
    "            with open(file_name,'a+') as f:\n",
    "                f.write(f'{class_name} {x_center} {y_center} {width} {height}\\n')\n",
    "        else:\n",
    "            with open(file_name,'w') as f:\n",
    "                f.write(f'{class_name} {x_center} {y_center} {width} {height}\\n')    \n",
    "\n",
    "print(\"[duplication_cnt] \",duplication_cnt)"
   ]
  },
  {
   "cell_type": "code",
   "execution_count": null,
   "id": "5",
   "metadata": {},
   "outputs": [],
   "source": [
    "len(json_data[1])"
   ]
  },
  {
   "cell_type": "code",
   "execution_count": null,
   "id": "6",
   "metadata": {},
   "outputs": [],
   "source": [
    "len(json_data)"
   ]
  },
  {
   "cell_type": "code",
   "execution_count": null,
   "id": "7",
   "metadata": {},
   "outputs": [],
   "source": [
    "json_data[1]['image_id']"
   ]
  },
  {
   "cell_type": "code",
   "execution_count": null,
   "id": "8",
   "metadata": {},
   "outputs": [],
   "source": [
    "len(json_data[100][1]['elements'])"
   ]
  },
  {
   "cell_type": "code",
   "execution_count": null,
   "id": "9",
   "metadata": {},
   "outputs": [],
   "source": [
    "for i in range(14):\n",
    "    print(100+i,len(json_data[100+i]))"
   ]
  },
  {
   "cell_type": "code",
   "execution_count": null,
   "id": "10",
   "metadata": {},
   "outputs": [],
   "source": [
    "json_data[0]"
   ]
  },
  {
   "cell_type": "code",
   "execution_count": null,
   "id": "11",
   "metadata": {},
   "outputs": [],
   "source": [
    "len(json_data[108])"
   ]
  },
  {
   "cell_type": "code",
   "execution_count": null,
   "id": "12",
   "metadata": {},
   "outputs": [],
   "source": [
    "json_data[108]"
   ]
  },
  {
   "cell_type": "code",
   "execution_count": null,
   "id": "13",
   "metadata": {},
   "outputs": [],
   "source": []
  }
 ],
 "metadata": {
  "kernelspec": {
   "display_name": "Python 3 (ipykernel)",
   "language": "python",
   "name": "python3"
  },
  "language_info": {
   "codemirror_mode": {
    "name": "ipython",
    "version": 3
   },
   "file_extension": ".py",
   "mimetype": "text/x-python",
   "name": "python",
   "nbconvert_exporter": "python",
   "pygments_lexer": "ipython3",
   "version": "3.8.18"
  }
 },
 "nbformat": 4,
 "nbformat_minor": 5
}
