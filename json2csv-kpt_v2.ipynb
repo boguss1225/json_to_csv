{
 "cells": [
  {
   "cell_type": "code",
   "execution_count": null,
   "id": "0",
   "metadata": {
    "tags": []
   },
   "outputs": [],
   "source": [
    "import pandas as pd\n",
    "import json\n",
    "import glob\n",
    "import os\n",
    "import cv2\n",
    "from tqdm import tqdm"
   ]
  },
  {
   "cell_type": "code",
   "execution_count": null,
   "id": "1",
   "metadata": {
    "tags": []
   },
   "outputs": [],
   "source": [
    "# TARGET_PATH = \"/home/hemyo/Desktop/1_data/multi-keypoint-proto/temp/\"\n",
    "TARGET_PATH = \"/run/user/1000/gvfs/smb-share:server=10.50.1.4,share=datalakev1/\"\n",
    "TARGET_PATH += \"02_Salmon/01_Raw_data/02_keypoint_cropped_fish/2021(legacy-2kpt)/2_kpt_20210721_Huon_AM100_sample/\"\n",
    "TARGET_PATH += \"4kpt_done/\""
   ]
  },
  {
   "cell_type": "code",
   "execution_count": null,
   "id": "2",
   "metadata": {},
   "outputs": [],
   "source": [
    "belly_fin = [\"belly_fin\", \"belly fin\", \"fin_belly\", \"fin belly\", \"belly-fin\", \"bell\"]\n",
    "back_fin = [\"fin_top\", \"fin top\", \"top_fin\", \"top fin\", \"back fin\", \"back_fin\", \"top\", \"high\"]\n",
    "tail = [\"tail center\", \"tail\"]\n",
    "nose = [\"nose\"]\n",
    "\n",
    "def is_in_any_list(input_str: str) -> bool:\n",
    "    return input_str in belly_fin or input_str in back_fin or input_str in tail or input_str in nose"
   ]
  },
  {
   "cell_type": "code",
   "execution_count": null,
   "id": "3",
   "metadata": {
    "tags": []
   },
   "outputs": [],
   "source": [
    "def convert_json_to_csv(filename, out):\n",
    "    s = json.load(open(filename, 'r'))\n",
    "    filename_base = s['imagePath']\n",
    "    filepath = os.path.join(TARGET_PATH,filename_base)\n",
    "    im = cv2.imread(filepath)\n",
    "    h,w,c = im.shape\n",
    "    \n",
    "    # init multiple varialbes to 0\n",
    "    (nose_x,nose_y,nose_visibility,\n",
    "    eye_x,eye_y,eye_visibility,\n",
    "    midfin_x,midfin_y,midfin_visibility,\n",
    "    bellyfin_x,bellyfin_y,bellyfin_visibility,\n",
    "    backfin_x,backfin_y,backfin_visibility,\n",
    "    tailtip_x,tailtip_y,tailtip_visibility,\n",
    "    tailtip2_x,tailtip2_y,tailtip2_visibility,\n",
    "    tail_x,tail_y,tail_visibility) = (0,)*24\n",
    "\n",
    "    for ann in s['shapes']:\n",
    "        label = ann['label']\n",
    "        x = int(ann['points'][0][0])\n",
    "        y = int(ann['points'][0][1])\n",
    "        # coordinates per label \n",
    "        if label in nose : nose_x = x ; nose_y = y; nose_visibility = 1\n",
    "        if label in tail : tail_x = x ; tail_y = y; tail_visibility = 1\n",
    "        if label in belly_fin : bellyfin_x = x ; bellyfin_y = y; bellyfin_visibility = 1\n",
    "        if label in back_fin : backfin_x = x ; backfin_y = y; backfin_visibility = 1\n",
    "        if not is_in_any_list(label) : \n",
    "            print(label,\"is not in the any of the list \",filename_base)\n",
    "        # if label == 'mid fin': midfin_x = x ; midfin_y = y; midfin_visibility = 1\n",
    "        # if label == 'tail tip': \n",
    "        #     if tailtip_visibility == 0 : tailtip_x = x ; tailtip_y = y; tailtip_visibility = 1\n",
    "        #     if tailtip_visibility == 1 : tailtip2_x = x ; tailtip2_y = y; tailtip2_visibility = 1 # second tail tip\n",
    "        # if label == 'tail center': tail_x = x ; tail_y = y; tail_visibility = 1\n",
    "\n",
    "    # retrun if missing label\n",
    "    # if eye_visibility+nose_visibility+tail_visibility+bellyfin_visibility+backfin_visibility != 5 : return 0\n",
    "\n",
    "    # write: fname, class, bbox_x1, bbox_y1, bbox_x2, bbox_y2\n",
    "    out.write(f'{filename_base},0,0,0,{w},{h}')\n",
    "    \n",
    "    # write the extracted result\n",
    "    out.write(f',{nose_x},{nose_y},{nose_visibility}')\n",
    "    # out.write(f',{eye_x},{eye_y},{eye_visibility}')\n",
    "    out.write(f',{tail_x},{tail_y},{tail_visibility}')\n",
    "    if len(s['shapes']) == 4:\n",
    "        out.write(f',{bellyfin_x},{bellyfin_y},{bellyfin_visibility}')\n",
    "        out.write(f',{backfin_x},{backfin_y},{backfin_visibility}')\n",
    "    \n",
    "    # out.write(f',{midfin_x},{midfin_y},{midfin_visibility}')\n",
    "    # out.write(f',{tailtip_x},{tailtip_y},{tailtip_visibility}')\n",
    "    # out.write(f',{tailtip2_x},{tailtip2_y},{tailtip2_visibility}')\n",
    "    \n",
    "    \n",
    "    out.write('\\n')"
   ]
  },
  {
   "cell_type": "code",
   "execution_count": null,
   "id": "4",
   "metadata": {
    "tags": []
   },
   "outputs": [],
   "source": [
    "# define save csv file\n",
    "out_file = os.path.normpath(TARGET_PATH) + '.csv'\n",
    "out = open(out_file, 'w')\n",
    "\n",
    "csv_head = \"\"\"filename,class,bbox_x1,bbox_y1,bbox_x2,bbox_y2,\n",
    "            nose_x,nose_y,nose_visibility,\n",
    "            tail_x,tail_y,tail_visibility,\n",
    "            bellyfin_x,bellyfin_y,bellyfin_visibility,\n",
    "            backfin_x,backfin_y,backfin_visibility\n",
    "            \"\"\".replace('\\n',\"\").replace('\\ ',\"\").replace(' ',\"\")\n",
    "# csv_head = \"asd\"\n",
    "out.write(csv_head+\"\\n\")\n",
    "\n",
    "json_list = glob.glob(TARGET_PATH+\"/*.json\")\n",
    "print(len(json_list), \"json files are globbed\")\n",
    "\n",
    "# convert json to csv\n",
    "for filename in tqdm(json_list):\n",
    "    convert_json_to_csv(filename, out)\n",
    "\n",
    "out.close()\n",
    "print(\"done\")"
   ]
  },
  {
   "cell_type": "code",
   "execution_count": null,
   "id": "5",
   "metadata": {},
   "outputs": [],
   "source": [
    "filename"
   ]
  },
  {
   "cell_type": "code",
   "execution_count": null,
   "id": "6",
   "metadata": {},
   "outputs": [],
   "source": []
  },
  {
   "cell_type": "code",
   "execution_count": null,
   "id": "7",
   "metadata": {},
   "outputs": [],
   "source": [
    "png_list = glob.glob(TARGET_PATH+\"/*.png\")\n",
    "for png_f in sorted(png_list) :\n",
    "    json_f = png_f.replace(\"png\",\"json\")\n",
    "    if not os.path.isfile(json_f) : \n",
    "        print(png_f)\n",
    "        os.remove(png_f)\n",
    "    # break"
   ]
  },
  {
   "cell_type": "code",
   "execution_count": null,
   "id": "8",
   "metadata": {},
   "outputs": [],
   "source": []
  }
 ],
 "metadata": {
  "kernelspec": {
   "display_name": "Python 3 (ipykernel)",
   "language": "python",
   "name": "python3"
  },
  "language_info": {
   "codemirror_mode": {
    "name": "ipython",
    "version": 3
   },
   "file_extension": ".py",
   "mimetype": "text/x-python",
   "name": "python",
   "nbconvert_exporter": "python",
   "pygments_lexer": "ipython3",
   "version": "3.8.18"
  }
 },
 "nbformat": 4,
 "nbformat_minor": 5
}
