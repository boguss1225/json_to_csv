{
 "cells": [
  {
   "cell_type": "code",
   "execution_count": null,
   "id": "0",
   "metadata": {},
   "outputs": [],
   "source": [
    "import pandas as pd\n",
    "import json\n",
    "import os\n",
    "import glob"
   ]
  },
  {
   "cell_type": "code",
   "execution_count": null,
   "id": "1",
   "metadata": {},
   "outputs": [],
   "source": [
    "BASE = \"/run/user/1000/gvfs/smb-share:server=10.50.1.4,share=datalakev1/02_Salmon/01_Raw_data/01_Detection_frames_cropped/2021/20210721_Huon_AM100_sample(reviewing)\"\n",
    "TARGET_PATH = BASE+\"/images/reviewed/batch2(done)\""
   ]
  },
  {
   "cell_type": "code",
   "execution_count": null,
   "id": "2",
   "metadata": {},
   "outputs": [],
   "source": [
    "def convert_json_to_csv(filename, out):\n",
    "    s = json.load(open(filename, 'r'))\n",
    "    \n",
    "    filename_base = s['imagePath']\n",
    "    w = s['imageWidth']\n",
    "    h = s['imageHeight']\n",
    "    # w = 1360\n",
    "    # h = 1024\n",
    "\n",
    "    for ann in s['shapes']:\n",
    "        label = ann['label']\n",
    "        xmin = ann['points'][0][0]\n",
    "        ymin = ann['points'][0][1]\n",
    "        xmax = ann['points'][1][0]\n",
    "        ymax = ann['points'][1][1]\n",
    "\n",
    "        # reversed value check\n",
    "        if(xmin>xmax): xmin,xmax=swap(xmin,xmax)\n",
    "        if(ymin>ymax): ymin,ymax=swap(ymin,ymax)\n",
    "\n",
    "        # check value validity\n",
    "        if(xmax > w): \n",
    "            print(filename, \"] out of bound xmax:\",xmax)\n",
    "            xmax = w\n",
    "            # quit()\n",
    "        if(ymax > h): \n",
    "            print(filename, \"] out of bound ymax:\",ymax) \n",
    "            ymax = h\n",
    "            # quit()\n",
    "        if(xmin < 0): \n",
    "            print(filename, \"] out of bound xmin:\",xmin)\n",
    "            xmin = 0\n",
    "            # quit()\n",
    "        if(ymin < 0): \n",
    "            print(filename, \"] out of bound ymin:\",ymin) \n",
    "            ymin = 0\n",
    "            # quit()\n",
    "\n",
    "        out.write('{},{},{},{},{},{},{},{}\\n'.format(\n",
    "            filename_base, int(w), int(h), label, round(float(xmin),2), round(float(ymin),2), round(float(xmax),2), round(float(ymax),2)))\n",
    "\n",
    "def swap(x,y):\n",
    "    temp = x\n",
    "    x = y\n",
    "    y = temp\n",
    "    return x, y"
   ]
  },
  {
   "cell_type": "code",
   "execution_count": null,
   "id": "3",
   "metadata": {},
   "outputs": [],
   "source": [
    "# define save csv file\n",
    "out_file = os.path.normpath(TARGET_PATH) + '_hm_reviewed.csv'\n",
    "out = open(out_file, 'w')\n",
    "out.write('filename,width,height,class,xmin,ymin,xmax,ymax\\n')\n",
    "\n",
    "json_list = glob.glob(TARGET_PATH+\"/*.json\")\n",
    "print(len(json_list), \"json files are globbed\")"
   ]
  },
  {
   "cell_type": "code",
   "execution_count": null,
   "id": "4",
   "metadata": {},
   "outputs": [],
   "source": [
    "# convert json to csv\n",
    "for filename in json_list:\n",
    "    convert_json_to_csv(filename, out)\n",
    "\n",
    "out.close()\n",
    "print(\"done\")"
   ]
  },
  {
   "cell_type": "code",
   "execution_count": null,
   "id": "5",
   "metadata": {},
   "outputs": [],
   "source": []
  }
 ],
 "metadata": {
  "kernelspec": {
   "display_name": "Python 3 (ipykernel)",
   "language": "python",
   "name": "python3"
  },
  "language_info": {
   "codemirror_mode": {
    "name": "ipython",
    "version": 3
   },
   "file_extension": ".py",
   "mimetype": "text/x-python",
   "name": "python",
   "nbconvert_exporter": "python",
   "pygments_lexer": "ipython3",
   "version": "3.8.18"
  }
 },
 "nbformat": 4,
 "nbformat_minor": 5
}
